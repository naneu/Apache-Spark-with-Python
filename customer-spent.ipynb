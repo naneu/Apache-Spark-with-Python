{
 "cells": [
  {
   "cell_type": "code",
   "execution_count": 1,
   "metadata": {},
   "outputs": [],
   "source": [
    "# a notebook to calculate the total amount spent by a customer"
   ]
  },
  {
   "cell_type": "code",
   "execution_count": 2,
   "metadata": {},
   "outputs": [],
   "source": [
    "from pyspark.sql import SparkSession\n",
    "from pyspark.sql.functions import *\n",
    "from pyspark.sql.types import *"
   ]
  },
  {
   "cell_type": "code",
   "execution_count": 3,
   "metadata": {},
   "outputs": [],
   "source": [
    "#creating a spark session\n",
    "spark = SparkSession.builder.appName(\"Customer Total\").getOrCreate()"
   ]
  },
  {
   "cell_type": "code",
   "execution_count": 4,
   "metadata": {},
   "outputs": [],
   "source": [
    "#creating a schema when reading customer-orders\n",
    "customerOrderSchema = StructType([\n",
    "    StructField(\"cust_id\", IntegerType(), True),\n",
    "    StructField(\"item_id\", IntegerType(), True),\n",
    "    StructField(\"amount_spent\", FloatType(), True)\n",
    "])"
   ]
  },
  {
   "cell_type": "code",
   "execution_count": 5,
   "metadata": {},
   "outputs": [],
   "source": [
    "#loading the data into spark dataframe\n",
    "customerDF = spark.read.schema(customerOrderSchema).csv(\"///customer-orders.csv\")"
   ]
  },
  {
   "cell_type": "code",
   "execution_count": 6,
   "metadata": {},
   "outputs": [
    {
     "name": "stdout",
     "output_type": "stream",
     "text": [
      "root\n",
      " |-- cust_id: integer (nullable = true)\n",
      " |-- item_id: integer (nullable = true)\n",
      " |-- amount_spent: float (nullable = true)\n",
      "\n"
     ]
    },
    {
     "data": {
      "text/plain": [
       "10000"
      ]
     },
     "execution_count": 6,
     "metadata": {},
     "output_type": "execute_result"
    }
   ],
   "source": [
    "# a quick look at what we are working with\n",
    "customerDF.printSchema()\n",
    "\n",
    "#counting the number of rows\n",
    "customerDF.count()"
   ]
  },
  {
   "cell_type": "code",
   "execution_count": 7,
   "metadata": {},
   "outputs": [
    {
     "name": "stdout",
     "output_type": "stream",
     "text": [
      "root\n",
      " |-- cust_id: integer (nullable = true)\n",
      " |-- amount_spent: float (nullable = true)\n",
      "\n"
     ]
    }
   ],
   "source": [
    "#selecting only the fields we need for this exercises\n",
    "customer_total = customerDF.select(\"cust_id\", \"amount_spent\")\n",
    "customer_total.printSchema()"
   ]
  },
  {
   "cell_type": "code",
   "execution_count": 9,
   "metadata": {},
   "outputs": [
    {
     "name": "stdout",
     "output_type": "stream",
     "text": [
      "+-------+------------------+\n",
      "|cust_id| sum(amount_spent)|\n",
      "+-------+------------------+\n",
      "|     31| 4765.050008416176|\n",
      "|     85|  5503.42998456955|\n",
      "|     65| 5140.349995829165|\n",
      "|     53| 4945.300026416779|\n",
      "|     78| 4524.510001778603|\n",
      "|     34|5330.8000039458275|\n",
      "|     81|   5112.7100045681|\n",
      "|     28|  5000.71000123024|\n",
      "|     76| 4904.210003614426|\n",
      "|     27| 4915.890009522438|\n",
      "|     26| 5250.399979650974|\n",
      "|     44| 4756.890008449554|\n",
      "|     12| 4664.589988231659|\n",
      "|     91| 4642.259980916977|\n",
      "|     22| 5019.449993014336|\n",
      "|     93|5265.7500213086605|\n",
      "|     47| 4316.299998342991|\n",
      "|      1| 4958.599974133074|\n",
      "|     52|  5245.05999673903|\n",
      "|     13| 4367.619992315769|\n",
      "+-------+------------------+\n",
      "only showing top 20 rows\n",
      "\n"
     ]
    }
   ],
   "source": [
    "customer_total_spent = customer_total.groupBy(\"cust_id\").sum(\"amount_spent\")\n",
    "customer_total_spent.show()"
   ]
  },
  {
   "cell_type": "code",
   "execution_count": 10,
   "metadata": {},
   "outputs": [
    {
     "name": "stdout",
     "output_type": "stream",
     "text": [
      "+-------+-----------+\n",
      "|cust_id|Total Spent|\n",
      "+-------+-----------+\n",
      "|     68|    6375.45|\n",
      "|     73|     6206.2|\n",
      "|     39|    6193.11|\n",
      "|     54|    6065.39|\n",
      "|     71|    5995.66|\n",
      "|      2|    5994.59|\n",
      "|     97|    5977.19|\n",
      "|     46|    5963.11|\n",
      "|     42|    5696.84|\n",
      "|     59|    5642.89|\n",
      "|     41|    5637.62|\n",
      "|      0|    5524.95|\n",
      "|      8|    5517.24|\n",
      "|     85|    5503.43|\n",
      "|     61|    5497.48|\n",
      "|     32|    5496.05|\n",
      "|     58|    5437.73|\n",
      "|     63|    5415.15|\n",
      "|     15|    5413.51|\n",
      "|      6|    5397.88|\n",
      "+-------+-----------+\n",
      "only showing top 20 rows\n",
      "\n"
     ]
    }
   ],
   "source": [
    "#formating \n",
    "customer_total_spent_format = customer_total.groupBy(\"cust_id\") \\\n",
    "    .agg(round(sum(\"amount_spent\"), 2)\n",
    "         .alias(\"Total Spent\")) \\\n",
    "            .sort(desc(\"Total Spent\"))\n",
    "customer_total_spent_format.show()\n"
   ]
  },
  {
   "cell_type": "code",
   "execution_count": null,
   "metadata": {},
   "outputs": [],
   "source": []
  },
  {
   "cell_type": "code",
   "execution_count": null,
   "metadata": {},
   "outputs": [],
   "source": []
  }
 ],
 "metadata": {
  "kernelspec": {
   "display_name": "Python 3",
   "language": "python",
   "name": "python3"
  },
  "language_info": {
   "codemirror_mode": {
    "name": "ipython",
    "version": 3
   },
   "file_extension": ".py",
   "mimetype": "text/x-python",
   "name": "python",
   "nbconvert_exporter": "python",
   "pygments_lexer": "ipython3",
   "version": "3.7.6"
  }
 },
 "nbformat": 4,
 "nbformat_minor": 4
}
